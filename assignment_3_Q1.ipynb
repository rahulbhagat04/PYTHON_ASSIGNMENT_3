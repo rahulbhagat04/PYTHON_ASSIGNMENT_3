{
 "cells": [
  {
   "cell_type": "code",
   "execution_count": 1,
   "id": "9dd65c8b-189f-4115-ba2e-5757cc3d3a09",
   "metadata": {},
   "outputs": [],
   "source": [
    "# Q1. Which keyword is used to create a function? Create a function to return a list of odd numbers in the\n",
    "#     range of 1 to 25."
   ]
  },
  {
   "cell_type": "code",
   "execution_count": 2,
   "id": "edbc7607-0fb8-4da7-a79b-00b42e9138b5",
   "metadata": {},
   "outputs": [],
   "source": [
    "# def is the keyword used to create a function. "
   ]
  },
  {
   "cell_type": "code",
   "execution_count": 5,
   "id": "73cc6b7e-da37-484a-bb0d-808f08361897",
   "metadata": {},
   "outputs": [],
   "source": [
    "def odd_number(l) :\n",
    "    od_num=[]\n",
    "    for i in range(l):\n",
    "        if i%2!=0:\n",
    "            od_num.append(i)\n",
    "    return od_num            "
   ]
  },
  {
   "cell_type": "code",
   "execution_count": 6,
   "id": "7ec8f8a3-e1f4-4489-aa9d-30cc7c85c42c",
   "metadata": {},
   "outputs": [
    {
     "data": {
      "text/plain": [
       "[1, 3, 5, 7, 9, 11, 13, 15, 17, 19, 21, 23, 25]"
      ]
     },
     "execution_count": 6,
     "metadata": {},
     "output_type": "execute_result"
    }
   ],
   "source": [
    "odd_number(26)"
   ]
  },
  {
   "cell_type": "code",
   "execution_count": null,
   "id": "37fab99d-f68a-47e4-a092-6ede154b956f",
   "metadata": {},
   "outputs": [],
   "source": []
  }
 ],
 "metadata": {
  "kernelspec": {
   "display_name": "Python 3 (ipykernel)",
   "language": "python",
   "name": "python3"
  },
  "language_info": {
   "codemirror_mode": {
    "name": "ipython",
    "version": 3
   },
   "file_extension": ".py",
   "mimetype": "text/x-python",
   "name": "python",
   "nbconvert_exporter": "python",
   "pygments_lexer": "ipython3",
   "version": "3.10.8"
  }
 },
 "nbformat": 4,
 "nbformat_minor": 5
}
