{
 "cells": [
  {
   "cell_type": "code",
   "execution_count": 1,
   "id": "53b0e046-3142-4e6b-8447-8acf01225599",
   "metadata": {},
   "outputs": [],
   "source": [
    "# Q7. Write a List Comprehension to iterate through the given string: ‘pwskills’.\n",
    "#     Expected output: ['p', 'w', 's', 'k', 'i', 'l', 'l', 's']"
   ]
  },
  {
   "cell_type": "code",
   "execution_count": 1,
   "id": "bf7170f8-1d0e-4e37-9aed-49e9966b422d",
   "metadata": {},
   "outputs": [],
   "source": [
    "string = 'pwskills'"
   ]
  },
  {
   "cell_type": "code",
   "execution_count": 5,
   "id": "2705d8da-72c6-4db9-832e-d0b04f7f8ffd",
   "metadata": {},
   "outputs": [],
   "source": [
    "result = [char for char in string]"
   ]
  },
  {
   "cell_type": "code",
   "execution_count": 3,
   "id": "324ad29b-a950-4197-b80b-a36996806616",
   "metadata": {},
   "outputs": [
    {
     "name": "stdout",
     "output_type": "stream",
     "text": [
      "['p', 'w', 's', 'k', 'i', 'l', 'l', 's']\n"
     ]
    }
   ],
   "source": [
    "print(result)"
   ]
  },
  {
   "cell_type": "code",
   "execution_count": null,
   "id": "ad161fb5-e526-4721-83fc-a5e270961b75",
   "metadata": {},
   "outputs": [],
   "source": []
  }
 ],
 "metadata": {
  "kernelspec": {
   "display_name": "Python 3 (ipykernel)",
   "language": "python",
   "name": "python3"
  },
  "language_info": {
   "codemirror_mode": {
    "name": "ipython",
    "version": 3
   },
   "file_extension": ".py",
   "mimetype": "text/x-python",
   "name": "python",
   "nbconvert_exporter": "python",
   "pygments_lexer": "ipython3",
   "version": "3.10.8"
  }
 },
 "nbformat": 4,
 "nbformat_minor": 5
}
