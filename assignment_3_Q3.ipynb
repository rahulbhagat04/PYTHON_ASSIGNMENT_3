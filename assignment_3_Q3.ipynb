{
 "cells": [
  {
   "cell_type": "code",
   "execution_count": 1,
   "id": "96cf6a1c-0a27-4a0e-a9c5-28637d93d767",
   "metadata": {},
   "outputs": [],
   "source": [
    "# Q3. What is an iterator in python? Name the method used to initialise the iterator object and the method\n",
    "#     used for iteration. Use these methods to print the first five elements of the given list\n",
    "#    [2, 4, 6, 8, 10, 12, 14, 16, 18, 20]."
   ]
  },
  {
   "cell_type": "code",
   "execution_count": 4,
   "id": "fe2f5905-77e8-4ac3-ad23-845c514a1860",
   "metadata": {},
   "outputs": [],
   "source": [
    "# an iterator is an object that allows iteration over a sequence of elements, such as a list, tuple, or string. \n",
    "# It provides a way to access the elements of a collection one by one,\n",
    "# without the need to access the entire collection at once."
   ]
  },
  {
   "cell_type": "code",
   "execution_count": 2,
   "id": "06c24188-5236-466f-9ea4-14106159c28c",
   "metadata": {},
   "outputs": [],
   "source": [
    "# an iterator is an object which implements the iterator protocol, which consist of the methods __iter__() and __next__()."
   ]
  },
  {
   "cell_type": "code",
   "execution_count": 5,
   "id": "795cdc47-1a3b-43fa-8451-5a7c2f4b0b0a",
   "metadata": {},
   "outputs": [],
   "source": [
    "# The __iter__() method is used to initialize the iterator object. \n",
    "# It returns the iterator object itself and is called when the iterator is created or reset."
   ]
  },
  {
   "cell_type": "code",
   "execution_count": 6,
   "id": "bc39c69a-b0c0-4faf-b4a2-12c893b00d93",
   "metadata": {},
   "outputs": [],
   "source": [
    "# The __next__() method is used for iteration. It returns the next element from the iterator.\n",
    "# If there are no more elements, it raises the StopIteration exception."
   ]
  },
  {
   "cell_type": "code",
   "execution_count": 1,
   "id": "58c271f3-06df-472f-bc04-7d9b6b347610",
   "metadata": {},
   "outputs": [],
   "source": [
    "numbers = [2, 4, 6, 8, 10, 12, 14, 16, 18, 20]"
   ]
  },
  {
   "cell_type": "code",
   "execution_count": 2,
   "id": "70c0fa41-a83c-4ea1-89e9-b362898f2007",
   "metadata": {},
   "outputs": [],
   "source": [
    "iterator = iter(numbers)"
   ]
  },
  {
   "cell_type": "code",
   "execution_count": 7,
   "id": "e36e9806-4f77-4aa6-a93a-ea4edccc1940",
   "metadata": {},
   "outputs": [
    {
     "name": "stdout",
     "output_type": "stream",
     "text": [
      "12\n",
      "14\n",
      "16\n",
      "18\n",
      "20\n"
     ]
    }
   ],
   "source": [
    "for i in range(5):\n",
    "    element = next(iterator)\n",
    "    print(element)"
   ]
  },
  {
   "cell_type": "code",
   "execution_count": null,
   "id": "d2a88bf0-30a7-49e8-b460-d4420e9d99be",
   "metadata": {},
   "outputs": [],
   "source": []
  }
 ],
 "metadata": {
  "kernelspec": {
   "display_name": "Python 3 (ipykernel)",
   "language": "python",
   "name": "python3"
  },
  "language_info": {
   "codemirror_mode": {
    "name": "ipython",
    "version": 3
   },
   "file_extension": ".py",
   "mimetype": "text/x-python",
   "name": "python",
   "nbconvert_exporter": "python",
   "pygments_lexer": "ipython3",
   "version": "3.10.8"
  }
 },
 "nbformat": 4,
 "nbformat_minor": 5
}
