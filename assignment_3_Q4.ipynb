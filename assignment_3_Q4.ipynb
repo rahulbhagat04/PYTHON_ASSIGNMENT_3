{
 "cells": [
  {
   "cell_type": "code",
   "execution_count": 1,
   "id": "f9551b8c-f1e3-445d-892f-33bdbbd617bb",
   "metadata": {},
   "outputs": [],
   "source": [
    "# Q4. What is a generator function in python? Why yield keyword is used? Give an example of a generator\n",
    "#     function."
   ]
  },
  {
   "cell_type": "code",
   "execution_count": 2,
   "id": "313267d2-e8a5-4a1a-985b-6b1cea59972d",
   "metadata": {},
   "outputs": [],
   "source": [
    "# a generator function is a special type of function that uses the yield keyword instead of return to generate a series of values. |"
   ]
  },
  {
   "cell_type": "code",
   "execution_count": 3,
   "id": "3d4687a1-5453-4353-85d7-591320205e9a",
   "metadata": {},
   "outputs": [],
   "source": [
    "# It allows you to define an iterator without the need to create an entire iterable class."
   ]
  },
  {
   "cell_type": "code",
   "execution_count": 4,
   "id": "47e90564-1e4d-4769-98ec-a50496030e0b",
   "metadata": {},
   "outputs": [],
   "source": [
    "# When a generator function is called, it returns an iterator object that can be used to iterate over the generated values one at a time, on-demand."
   ]
  },
  {
   "cell_type": "code",
   "execution_count": 5,
   "id": "be526c2b-a8c0-470b-a134-769f23af22d2",
   "metadata": {},
   "outputs": [],
   "source": [
    "# The yield keyword is used in a generator function to define the points at which the function should pause its execution\n",
    "# and yield a value to the caller."
   ]
  },
  {
   "cell_type": "code",
   "execution_count": 6,
   "id": "6483df8e-0282-495e-b604-4bd4ede95070",
   "metadata": {},
   "outputs": [],
   "source": [
    "#EXAMPLE"
   ]
  },
  {
   "cell_type": "code",
   "execution_count": 9,
   "id": "f5a35a7a-c359-432b-99a4-18d3828f1856",
   "metadata": {},
   "outputs": [],
   "source": [
    "def fibbonaci(n):\n",
    "    a,b=0,1\n",
    "    for i in range(n):\n",
    "        yield a\n",
    "        a,b=b,a+b"
   ]
  },
  {
   "cell_type": "code",
   "execution_count": 11,
   "id": "83d49829-6e59-4fed-a1ce-3f6761eae9c1",
   "metadata": {},
   "outputs": [
    {
     "data": {
      "text/plain": [
       "<generator object fibbonaci at 0x7fe0962c6180>"
      ]
     },
     "execution_count": 11,
     "metadata": {},
     "output_type": "execute_result"
    }
   ],
   "source": [
    "fibbonaci(10)"
   ]
  },
  {
   "cell_type": "code",
   "execution_count": 10,
   "id": "c96e31c3-3796-492a-9c64-0e604e9d0db3",
   "metadata": {},
   "outputs": [
    {
     "name": "stdout",
     "output_type": "stream",
     "text": [
      "0\n",
      "1\n",
      "1\n",
      "2\n",
      "3\n",
      "5\n",
      "8\n",
      "13\n",
      "21\n",
      "34\n"
     ]
    }
   ],
   "source": [
    "for i in fibbonaci(10):\n",
    "    print(i)"
   ]
  },
  {
   "cell_type": "code",
   "execution_count": null,
   "id": "35860351-3cec-4c85-bff0-3e16197824dd",
   "metadata": {},
   "outputs": [],
   "source": []
  }
 ],
 "metadata": {
  "kernelspec": {
   "display_name": "Python 3 (ipykernel)",
   "language": "python",
   "name": "python3"
  },
  "language_info": {
   "codemirror_mode": {
    "name": "ipython",
    "version": 3
   },
   "file_extension": ".py",
   "mimetype": "text/x-python",
   "name": "python",
   "nbconvert_exporter": "python",
   "pygments_lexer": "ipython3",
   "version": "3.10.8"
  }
 },
 "nbformat": 4,
 "nbformat_minor": 5
}
