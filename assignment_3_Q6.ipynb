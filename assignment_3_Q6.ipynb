{
 "cells": [
  {
   "cell_type": "code",
   "execution_count": 1,
   "id": "925e7521-0d04-4e27-bafa-7d89dc75344c",
   "metadata": {},
   "outputs": [],
   "source": [
    "# Q6. Write a python program to print the first 10 Fibonacci numbers using a while loop."
   ]
  },
  {
   "cell_type": "code",
   "execution_count": 1,
   "id": "fc39cd38-cdec-4b16-907c-3c6bddd02868",
   "metadata": {},
   "outputs": [],
   "source": [
    "def fibonacci_sequence(n):\n",
    "    sequence = []\n",
    "    count = 0\n",
    "    a, b = 0, 1\n",
    "\n",
    "    while count < n:\n",
    "        sequence.append(a)\n",
    "        a, b = b, a + b\n",
    "        count += 1\n",
    "\n",
    "    return sequence"
   ]
  },
  {
   "cell_type": "code",
   "execution_count": 2,
   "id": "3727ac84-ecaf-434d-9ac6-dc8b897017f0",
   "metadata": {},
   "outputs": [
    {
     "name": "stdout",
     "output_type": "stream",
     "text": [
      "[0, 1, 1, 2, 3, 5, 8, 13, 21, 34]\n"
     ]
    }
   ],
   "source": [
    "fibonacci_numbers = fibonacci_sequence(10)\n",
    "print(fibonacci_numbers)"
   ]
  },
  {
   "cell_type": "code",
   "execution_count": null,
   "id": "83b0e810-208d-430d-a821-c918712ef5af",
   "metadata": {},
   "outputs": [],
   "source": []
  }
 ],
 "metadata": {
  "kernelspec": {
   "display_name": "Python 3 (ipykernel)",
   "language": "python",
   "name": "python3"
  },
  "language_info": {
   "codemirror_mode": {
    "name": "ipython",
    "version": 3
   },
   "file_extension": ".py",
   "mimetype": "text/x-python",
   "name": "python",
   "nbconvert_exporter": "python",
   "pygments_lexer": "ipython3",
   "version": "3.10.8"
  }
 },
 "nbformat": 4,
 "nbformat_minor": 5
}
