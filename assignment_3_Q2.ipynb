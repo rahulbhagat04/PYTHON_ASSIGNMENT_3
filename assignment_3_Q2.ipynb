{
 "cells": [
  {
   "cell_type": "code",
   "execution_count": 1,
   "id": "df0a1d9c-7c99-4c6d-afaf-00bb089959e7",
   "metadata": {},
   "outputs": [],
   "source": [
    "# Q2. Why *args and **kwargs is used in some functions? Create a function each for *args and **kwargs\n",
    "#    to demonstrate their use."
   ]
  },
  {
   "cell_type": "code",
   "execution_count": 5,
   "id": "3fb59074-7537-419d-9d91-8d935905279c",
   "metadata": {},
   "outputs": [],
   "source": [
    "#solution"
   ]
  },
  {
   "cell_type": "code",
   "execution_count": 10,
   "id": "47a4bafe-072f-4388-a523-dcc0bc712e95",
   "metadata": {},
   "outputs": [],
   "source": [
    "# In Python, *args and **kwargs are used as special syntax in function definitions to allow the passing of\n",
    "# a variable number of arguments to a function."
   ]
  },
  {
   "cell_type": "code",
   "execution_count": 4,
   "id": "14e276c9-a106-4239-b2ae-ef6a4565aeb1",
   "metadata": {},
   "outputs": [],
   "source": [
    "# *args"
   ]
  },
  {
   "cell_type": "code",
   "execution_count": 5,
   "id": "9611c42e-1ca7-462d-9336-d5acdfd3d40c",
   "metadata": {},
   "outputs": [],
   "source": [
    "#  \"*args\" parameter allows a function to accept a variable number of non-keyworded arguments. \n",
    "#  It collects these arguments as a tuple within the function. \n",
    "#  This is useful when the number of arguments is not known in advance. "
   ]
  },
  {
   "cell_type": "code",
   "execution_count": 1,
   "id": "a4dbebbc-44a8-4d77-9573-90c1d6dbc164",
   "metadata": {},
   "outputs": [],
   "source": [
    "# example"
   ]
  },
  {
   "cell_type": "code",
   "execution_count": 3,
   "id": "7630d591-e4ce-41f7-a3b9-3708ec1f8b8c",
   "metadata": {},
   "outputs": [],
   "source": [
    "def func(*args):\n",
    "    return args"
   ]
  },
  {
   "cell_type": "code",
   "execution_count": 8,
   "id": "36e55ed6-6cbc-4869-9d2a-d9e2c1e7b582",
   "metadata": {},
   "outputs": [
    {
     "data": {
      "text/plain": [
       "tuple"
      ]
     },
     "execution_count": 8,
     "metadata": {},
     "output_type": "execute_result"
    }
   ],
   "source": [
    "type(func())"
   ]
  },
  {
   "cell_type": "code",
   "execution_count": 4,
   "id": "a9d72c87-480f-4b4a-b594-555cee526989",
   "metadata": {},
   "outputs": [
    {
     "data": {
      "text/plain": [
       "(1, 2, 3, 4, 5)"
      ]
     },
     "execution_count": 4,
     "metadata": {},
     "output_type": "execute_result"
    }
   ],
   "source": [
    "func(1,2,3,4,5)"
   ]
  },
  {
   "cell_type": "code",
   "execution_count": 8,
   "id": "127299b4-1ba0-49fb-af0c-260fa1f7cb25",
   "metadata": {},
   "outputs": [],
   "source": [
    "# **kwargs"
   ]
  },
  {
   "cell_type": "code",
   "execution_count": 7,
   "id": "5952592a-2ced-40c2-b4c0-966dff565508",
   "metadata": {},
   "outputs": [],
   "source": [
    "#  \"**kwargs\" allows a function to accept a variable number of keyword arguments, \n",
    "#  which are then collected into a dictionary within the function.\n",
    "#  This is useful when we want to pass key-value pairs as arguments. "
   ]
  },
  {
   "cell_type": "code",
   "execution_count": 6,
   "id": "a88a343a-5d76-4e93-9308-ff707133be39",
   "metadata": {},
   "outputs": [],
   "source": [
    "#example"
   ]
  },
  {
   "cell_type": "code",
   "execution_count": 9,
   "id": "7b6896f9-2ab9-4d2a-99c7-85062e5a22e7",
   "metadata": {},
   "outputs": [],
   "source": [
    "def func1(**kwargs):\n",
    "    return kwargs"
   ]
  },
  {
   "cell_type": "code",
   "execution_count": 10,
   "id": "ace3976e-141e-404d-8733-9cfee8838ffa",
   "metadata": {},
   "outputs": [
    {
     "data": {
      "text/plain": [
       "dict"
      ]
     },
     "execution_count": 10,
     "metadata": {},
     "output_type": "execute_result"
    }
   ],
   "source": [
    "type(func1())"
   ]
  },
  {
   "cell_type": "code",
   "execution_count": 19,
   "id": "2c47ab40-f334-46bf-aed0-f35d1eefc067",
   "metadata": {},
   "outputs": [
    {
     "data": {
      "text/plain": [
       "{'first': [1, 2, 3, 4], 'second': 'eklabya', 'third': 123.56}"
      ]
     },
     "execution_count": 19,
     "metadata": {},
     "output_type": "execute_result"
    }
   ],
   "source": [
    "func1(first = [1,2,3,4] , second = \"eklabya\" , third = 123.56)"
   ]
  },
  {
   "cell_type": "code",
   "execution_count": null,
   "id": "24e27a11-34f4-40e5-9eea-b1f118bbab9f",
   "metadata": {},
   "outputs": [],
   "source": []
  }
 ],
 "metadata": {
  "kernelspec": {
   "display_name": "Python 3 (ipykernel)",
   "language": "python",
   "name": "python3"
  },
  "language_info": {
   "codemirror_mode": {
    "name": "ipython",
    "version": 3
   },
   "file_extension": ".py",
   "mimetype": "text/x-python",
   "name": "python",
   "nbconvert_exporter": "python",
   "pygments_lexer": "ipython3",
   "version": "3.10.8"
  }
 },
 "nbformat": 4,
 "nbformat_minor": 5
}
